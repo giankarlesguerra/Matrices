{
  "nbformat": 4,
  "nbformat_minor": 0,
  "metadata": {
    "colab": {
      "name": "Esguerra_GianKarl_Lab6.ipynb",
      "provenance": [],
      "collapsed_sections": []
    },
    "kernelspec": {
      "name": "python3",
      "display_name": "Python 3"
    }
  },
  "cells": [
    {
      "cell_type": "markdown",
      "metadata": {
        "id": "-KxCjX2z8__L"
      },
      "source": [
        "# <b>Linear Algebra for CpE"
      ]
    },
    {
      "cell_type": "markdown",
      "metadata": {
        "id": "7xDbw61Y9QTY"
      },
      "source": [
        "###<b> Laboratory 6: Matrices"
      ]
    },
    {
      "cell_type": "markdown",
      "metadata": {
        "id": "Yi75u_JX9jQQ"
      },
      "source": [
        "<h5>Coded and Submitted by:<h5>\n",
        "<h5><i>Esguerra, Gian Karl J.<i>\n",
        "<h5><i>58011<i>"
      ]
    },
    {
      "cell_type": "markdown",
      "metadata": {
        "id": "bCAs-kwz9zlP"
      },
      "source": [
        "<b>Lab Exercises:<b>"
      ]
    },
    {
      "cell_type": "code",
      "metadata": {
        "id": "f5jy4Xvm99un"
      },
      "source": [
        "import numpy as np\n",
        "import matplotlib.pyplot as plt\n",
        "import scipy.linalg as la\n",
        "%matplotlib inline\n"
      ],
      "execution_count": null,
      "outputs": []
    },
    {
      "cell_type": "markdown",
      "metadata": {
        "id": "adBTdk2P_hEQ"
      },
      "source": [
        "1. Given the linear combination below, try to create a corresponding matrix representing it.\n",
        "\n",
        "$$\\theta = 5x + 3y - z$$"
      ]
    },
    {
      "cell_type": "code",
      "metadata": {
        "id": "shIzsrvB_LzY",
        "colab": {
          "base_uri": "https://localhost:8080/",
          "height": 34
        },
        "outputId": "ad2c3d58-ce02-4ab5-cd9d-6f0d0b0b7a3b"
      },
      "source": [
        "𝜃 = np.array([5, 3, -1])\n",
        "print(\"𝜃 =\",𝜃 ) "
      ],
      "execution_count": null,
      "outputs": [
        {
          "output_type": "stream",
          "text": [
            "𝜃 = [ 5  3 -1]\n"
          ],
          "name": "stdout"
        }
      ]
    },
    {
      "cell_type": "markdown",
      "metadata": {
        "id": "Pm0XaWbO_qK4"
      },
      "source": [
        "2. Given the system of linear combinations below, try to encode it as a matrix. Also describe the matrix.\n",
        "$$ A = \\left\\{\\begin{array} 5x_1 + 2x_2 +x_3\\\\ 4x_2 - x_3\\\\ 10x_3 \\end{array}\\right. $$"
      ]
    },
    {
      "cell_type": "code",
      "metadata": {
        "id": "XobgI92d_Nhw"
      },
      "source": [
        "def describe_mat(matrix):\n",
        "    print(f'Matrix:\\n{matrix}\\n\\nShape:\\t{matrix.shape}\\nRank:\\t{matrix.ndim}\\n')\n",
        "   "
      ],
      "execution_count": null,
      "outputs": []
    },
    {
      "cell_type": "code",
      "metadata": {
        "id": "sdKbqELfAaXB",
        "colab": {
          "base_uri": "https://localhost:8080/",
          "height": 151
        },
        "outputId": "4dbe1481-56b2-4a12-df84-1d7c5706517c"
      },
      "source": [
        " A = np.array([\n",
        "    [1, 2, 1],\n",
        "    [0, 4, -1],\n",
        "    [0, 0, 10]\n",
        "])\n",
        "describe_mat(A)"
      ],
      "execution_count": null,
      "outputs": [
        {
          "output_type": "stream",
          "text": [
            "Matrix:\n",
            "[[ 1  2  1]\n",
            " [ 0  4 -1]\n",
            " [ 0  0 10]]\n",
            "\n",
            "Shape:\t(3, 3)\n",
            "Rank:\t2\n",
            "\n"
          ],
          "name": "stdout"
        }
      ]
    },
    {
      "cell_type": "markdown",
      "metadata": {
        "id": "08kakdhR_zqQ"
      },
      "source": [
        "3. Given the matrix below, express it as a linear combination in a markdown."
      ]
    },
    {
      "cell_type": "code",
      "metadata": {
        "id": "PaEB8wCUACI4",
        "colab": {
          "base_uri": "https://localhost:8080/",
          "height": 34
        },
        "outputId": "7a41a113-c4cd-42d9-a5c6-70757f056a68"
      },
      "source": [
        "G = np.array([\n",
        "    [1,7,8],\n",
        "    [2,2,2],\n",
        "    [4,6,7]\n",
        "])\n",
        "G = np.diag(G)\n",
        "G"
      ],
      "execution_count": null,
      "outputs": [
        {
          "output_type": "execute_result",
          "data": {
            "text/plain": [
              "array([1, 2, 7])"
            ]
          },
          "metadata": {
            "tags": []
          },
          "execution_count": 19
        }
      ]
    },
    {
      "cell_type": "markdown",
      "metadata": {
        "id": "tFeeiZKICXSA"
      },
      "source": [
        "4. Given the matrix below display the output as a LaTeX makdown also express it as a system of linear combinations."
      ]
    },
    {
      "cell_type": "code",
      "metadata": {
        "id": "EEnB_RD6CbaD",
        "colab": {
          "base_uri": "https://localhost:8080/",
          "height": 67
        },
        "outputId": "2c039f95-3ed7-4975-8ac0-7f78cd129ee2"
      },
      "source": [
        "H = np.tril(G)\n",
        "H"
      ],
      "execution_count": null,
      "outputs": [
        {
          "output_type": "execute_result",
          "data": {
            "text/plain": [
              "array([[1, 0, 0],\n",
              "       [1, 2, 0],\n",
              "       [1, 2, 7]])"
            ]
          },
          "metadata": {
            "tags": []
          },
          "execution_count": 20
        }
      ]
    },
    {
      "cell_type": "markdown",
      "metadata": {
        "id": "nANvWQuZDbni"
      },
      "source": [
        "$$\n",
        "H=\\begin{bmatrix} 1 & 0 & 0 \\\\ 1 & 2 & 0 \\\\ 1 & 2 & 7\\end{bmatrix} \n",
        "$$<br><br>\n",
        "\n",
        "$$H= \\left\\{ \\begin{array}\\\\ x \\\\  x + 2y \\\\ x + 2y + 7z \\end{array}\\right. \\\\\n",
        " $$"
      ]
    }
  ]
}