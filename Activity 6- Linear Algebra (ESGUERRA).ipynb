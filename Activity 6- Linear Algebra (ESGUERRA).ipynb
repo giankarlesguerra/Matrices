{
 "cells": [
  {
   "cell_type": "markdown",
   "metadata": {},
   "source": [
    "### Laboratory 6: Matrices"
   ]
  },
  {
   "cell_type": "markdown",
   "metadata": {},
   "source": [
    "# <b>Linear Algebra for CpE"
   ]
  },
  {
   "cell_type": "markdown",
   "metadata": {},
   "source": [
    "<h5>Coded and Submitted by:\n",
    "<h5><i>Esguerra, Gian Karl J.<i>\n",
    "<h5><i>58011<i>"
   ]
  },
  {
   "cell_type": "markdown",
   "metadata": {},
   "source": [
    "### <b>TASK 1<b>"
   ]
  },
  {
   "cell_type": "code",
   "execution_count": 22,
   "metadata": {},
   "outputs": [],
   "source": [
    "import numpy as np\n",
    "import matplotlib.pyplot as plt\n",
    "import scipy.linalg as la"
   ]
  },
  {
   "cell_type": "code",
   "execution_count": 23,
   "metadata": {},
   "outputs": [],
   "source": [
    "## Function area\n",
    "def mat_desc(matrix): \n",
    "  square = True if matrix.shape[0] == matrix.shape[1] else False \n",
    "  empty = matrix.size == 0\n",
    "  zero_mat_sqr = np.zeros((3,3))\n",
    "  ones_mat_sqr = np.ones((3,3))\n",
    "  identity = np.eye(3)\n",
    "  print(f'Matrix:\\n{matrix}','\\n'f'Shape:\\t{matrix.shape}','\\n',f'Size:\\t{matrix.size}','\\n',f'Rank:\\t{matrix.ndim}',\n",
    "        '\\n',f'Square: {square}','\\n',f'Empty: {empty}','\\n',f'Identity Matrix:\\n {identity}','\\n',\n",
    "        f'Ones Matrix:\\n {ones_mat_sqr}','\\n',f'Zeros Matrix:\\n {zero_mat_sqr}')"
   ]
  },
  {
   "cell_type": "code",
   "execution_count": 24,
   "metadata": {},
   "outputs": [],
   "source": [
    "## Matrix declarations\n",
    "C = np.array([[2, -4, 6],[2, -1, 4],[9, 2, -1],[1, 3, -7]])\n",
    "K = np.array([[26, -3, -4],[3, 9, -1],[4, -12, 2],[3, 1, -2]])\n",
    "S = np.array([[2, -4, 3],[4, -9, 4],[11, 5, -2],[5, 8, -1]])\n",
    "E = np.array([[9, -5, 6],[9, -13, 18],[5, 7, -9],[6, 8, -12]])\n",
    "G = np.array([[12, -13, 15],[19, -12, 10],[15, 6, -11],[7, 13, -8]])"
   ]
  },
  {
   "cell_type": "code",
   "execution_count": 25,
   "metadata": {},
   "outputs": [
    {
     "name": "stdout",
     "output_type": "stream",
     "text": [
      "Matrix:\n",
      "[[ 2 -4  6]\n",
      " [ 2 -1  4]\n",
      " [ 9  2 -1]\n",
      " [ 1  3 -7]] \n",
      "Shape:\t(4, 3) \n",
      " Size:\t12 \n",
      " Rank:\t2 \n",
      " Square: False \n",
      " Empty: False \n",
      " Identity Matrix:\n",
      " [[1. 0. 0.]\n",
      " [0. 1. 0.]\n",
      " [0. 0. 1.]] \n",
      " Ones Matrix:\n",
      " [[1. 1. 1.]\n",
      " [1. 1. 1.]\n",
      " [1. 1. 1.]] \n",
      " Zeros Matrix:\n",
      " [[0. 0. 0.]\n",
      " [0. 0. 0.]\n",
      " [0. 0. 0.]]\n",
      "\t\n",
      "Matrix:\n",
      "[[ 26  -3  -4]\n",
      " [  3   9  -1]\n",
      " [  4 -12   2]\n",
      " [  3   1  -2]] \n",
      "Shape:\t(4, 3) \n",
      " Size:\t12 \n",
      " Rank:\t2 \n",
      " Square: False \n",
      " Empty: False \n",
      " Identity Matrix:\n",
      " [[1. 0. 0.]\n",
      " [0. 1. 0.]\n",
      " [0. 0. 1.]] \n",
      " Ones Matrix:\n",
      " [[1. 1. 1.]\n",
      " [1. 1. 1.]\n",
      " [1. 1. 1.]] \n",
      " Zeros Matrix:\n",
      " [[0. 0. 0.]\n",
      " [0. 0. 0.]\n",
      " [0. 0. 0.]]\n",
      "\t\n",
      "Matrix:\n",
      "[[ 2 -4  3]\n",
      " [ 4 -9  4]\n",
      " [11  5 -2]\n",
      " [ 5  8 -1]] \n",
      "Shape:\t(4, 3) \n",
      " Size:\t12 \n",
      " Rank:\t2 \n",
      " Square: False \n",
      " Empty: False \n",
      " Identity Matrix:\n",
      " [[1. 0. 0.]\n",
      " [0. 1. 0.]\n",
      " [0. 0. 1.]] \n",
      " Ones Matrix:\n",
      " [[1. 1. 1.]\n",
      " [1. 1. 1.]\n",
      " [1. 1. 1.]] \n",
      " Zeros Matrix:\n",
      " [[0. 0. 0.]\n",
      " [0. 0. 0.]\n",
      " [0. 0. 0.]]\n",
      "\t\n",
      "Matrix:\n",
      "[[  9  -5   6]\n",
      " [  9 -13  18]\n",
      " [  5   7  -9]\n",
      " [  6   8 -12]] \n",
      "Shape:\t(4, 3) \n",
      " Size:\t12 \n",
      " Rank:\t2 \n",
      " Square: False \n",
      " Empty: False \n",
      " Identity Matrix:\n",
      " [[1. 0. 0.]\n",
      " [0. 1. 0.]\n",
      " [0. 0. 1.]] \n",
      " Ones Matrix:\n",
      " [[1. 1. 1.]\n",
      " [1. 1. 1.]\n",
      " [1. 1. 1.]] \n",
      " Zeros Matrix:\n",
      " [[0. 0. 0.]\n",
      " [0. 0. 0.]\n",
      " [0. 0. 0.]]\n",
      "\t\n",
      "Matrix:\n",
      "[[ 12 -13  15]\n",
      " [ 19 -12  10]\n",
      " [ 15   6 -11]\n",
      " [  7  13  -8]] \n",
      "Shape:\t(4, 3) \n",
      " Size:\t12 \n",
      " Rank:\t2 \n",
      " Square: False \n",
      " Empty: False \n",
      " Identity Matrix:\n",
      " [[1. 0. 0.]\n",
      " [0. 1. 0.]\n",
      " [0. 0. 1.]] \n",
      " Ones Matrix:\n",
      " [[1. 1. 1.]\n",
      " [1. 1. 1.]\n",
      " [1. 1. 1.]] \n",
      " Zeros Matrix:\n",
      " [[0. 0. 0.]\n",
      " [0. 0. 0.]\n",
      " [0. 0. 0.]]\n"
     ]
    }
   ],
   "source": [
    "## Test Areas\n",
    "mat_desc(C)\n",
    "print('\\t')\n",
    "mat_desc(K)\n",
    "print('\\t')\n",
    "mat_desc(S)\n",
    "print('\\t')\n",
    "mat_desc(E)\n",
    "print('\\t')\n",
    "mat_desc(G)"
   ]
  },
  {
   "cell_type": "markdown",
   "metadata": {},
   "source": [
    "### <b>TASK 2<b>"
   ]
  },
  {
   "cell_type": "code",
   "execution_count": 48,
   "metadata": {},
   "outputs": [],
   "source": [
    "## Function Area \n",
    "def isScalarMatrix(mat) : \n",
    "    for x in range(0,len(mat[0])) : \n",
    "        for y in range(0,len(mat[0])) : \n",
    "            if ((x != y) \n",
    "            and (mat[x][y] != 0)) : \n",
    "                return False\n",
    "    for x in range(0,len(mat[0])-1) : \n",
    "        if (mat[x][x] !=\n",
    "        mat[x + 1][x + 1]) : \n",
    "            return False\n",
    "    return True\n",
    " \n",
    "def mat_operations(matrix_a, matrix_b):\n",
    "    try:\n",
    "      name = \"\"\n",
    "      if(isScalarMatrix(matrix_a) and isScalarMatrix(matrix_b)):\n",
    "          name = \"Scalar\"\n",
    "      else:\n",
    "          name = \"Matrix\"\n",
    "      sum = matrix_a + matrix_b\n",
    "      difference = matrix_a - matrix_b\n",
    "      product = np.multiply(matrix_a,matrix_b)\n",
    "      quotient = np.divide(matrix_a,matrix_b)\n",
    "      print(f'Sum of {name}:\\n{sum}','\\n',f'Difference of {name}:\\n{difference}','\\n',f'Product of {name}:\\n{product}',\n",
    "            '\\n'f'Product of {name}:\\n{product}')\n",
    "    except:\n",
    "      print(\"Matrices are not viable for operations\")"
   ]
  },
  {
   "cell_type": "code",
   "execution_count": 49,
   "metadata": {},
   "outputs": [],
   "source": [
    "## Matrix Declartion\n",
    "c = np.array([[2, -4, 6],[2, -1, 4],[9, 2, -1],[1, 3, -7]])\n",
    "k = np.array([[26, -3, -4],[3, 9, -1],[4, -12, 2],[3, 1, -2]])\n",
    "s = np.array([[2, -4, 3],[4, -9, 4],[11, 5, -2],[5, 8, -1]])\n",
    "e = np.array([[9, -5, 6],[9, -13, 18],[5, 7, -9],[6, 8, -12]])\n",
    "g = np.array([[12, -13, 15],[19, -12, 10],[15, 6, -11],[7, 13, -8]])"
   ]
  },
  {
   "cell_type": "code",
   "execution_count": 50,
   "metadata": {},
   "outputs": [
    {
     "name": "stdout",
     "output_type": "stream",
     "text": [
      "Sum of Matrix:\n",
      "[[ 28  -7   2]\n",
      " [  5   8   3]\n",
      " [ 13 -10   1]\n",
      " [  4   4  -9]] \n",
      " Difference of Matrix:\n",
      "[[-24  -1  10]\n",
      " [ -1 -10   5]\n",
      " [  5  14  -3]\n",
      " [ -2   2  -5]] \n",
      " Product of Matrix:\n",
      "[[ 52  12 -24]\n",
      " [  6  -9  -4]\n",
      " [ 36 -24  -2]\n",
      " [  3   3  14]] \n",
      "Product of Matrix:\n",
      "[[ 52  12 -24]\n",
      " [  6  -9  -4]\n",
      " [ 36 -24  -2]\n",
      " [  3   3  14]]\n"
     ]
    }
   ],
   "source": [
    "## Test Area \n",
    "mat_operations(c,k)"
   ]
  }
 ],
 "metadata": {
  "kernelspec": {
   "display_name": "Python 3",
   "language": "python",
   "name": "python3"
  },
  "language_info": {
   "codemirror_mode": {
    "name": "ipython",
    "version": 3
   },
   "file_extension": ".py",
   "mimetype": "text/x-python",
   "name": "python",
   "nbconvert_exporter": "python",
   "pygments_lexer": "ipython3",
   "version": "3.8.3"
  }
 },
 "nbformat": 4,
 "nbformat_minor": 4
}
